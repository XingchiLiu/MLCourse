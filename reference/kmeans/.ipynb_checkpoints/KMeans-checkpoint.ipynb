{
 "cells": [
  {
   "cell_type": "markdown",
   "metadata": {},
   "source": [
    "## 数据准备"
   ]
  },
  {
   "cell_type": "code",
   "execution_count": 2,
   "metadata": {
    "collapsed": true
   },
   "outputs": [],
   "source": [
    "from sklearn.model_selection import train_test_split\n",
    "import numpy as np\n",
    "import matplotlib.pyplot as plt\n",
    "\n",
    "data_1 = np.random.randn(200, 2)+[1, 1]\n",
    "data_2 = np.random.randn(200, 2)+[4, 4]\n",
    "data_3 = np.random.randn(200, 2)+[7, 1]\n",
    "\n",
    "data = np.concatenate((data_1, data_2, data_3), axis=0)\n",
    "\n",
    "\n",
    "X_train, X_test = train_test_split(data, test_size=0.2)"
   ]
  },
  {
   "cell_type": "markdown",
   "metadata": {},
   "source": [
    "## 模型基本\n",
    "有了数据之后，最先做的应该就是选取$k$个质心点，为了满足选取的质心点在数据各维度的范围内，先计算数据各维度上的均值与方差，再引入随机值做质心选取。"
   ]
  },
  {
   "cell_type": "code",
   "execution_count": 3,
   "metadata": {
    "collapsed": true
   },
   "outputs": [],
   "source": [
    "def gen_center(X_train, k):\n",
    "    n_sample = X_train.shape[0]\n",
    "    n_feature = X_train.shape[1]\n",
    "\n",
    "    # 为了在数据范围内产生随机质心，首先计算各特征的统计量\n",
    "    f_mean = np.mean(X_train, axis=0).reshape((1, n_feature))\n",
    "    f_std = np.std(X_train, axis=0).reshape((1, n_feature))\n",
    "\n",
    "    centers = np.random.randn(k, n_feature)*f_std+f_mean    # (k,n_feature)\n",
    "    return centers\n",
    "\n",
    "\n",
    "k=3\n",
    "centers = gen_center(X_train, k)"
   ]
  },
  {
   "cell_type": "markdown",
   "metadata": {},
   "source": [
    "选取好质心后，接下来开始迭代。\n",
    "- 计算每个样本离每个质心的距离，该距离用矩阵保存，维度为$(n\\_sample,k)$，然后使用```np.argmin()```就能很方便求出样本点被归到哪个类别"
   ]
  },
  {
   "cell_type": "code",
   "execution_count": 4,
   "metadata": {
    "collapsed": true
   },
   "outputs": [],
   "source": [
    "# n_sample = X_train.shape[0]\n",
    "\n",
    "# clusters = np.zeros(n_sample)    # 每个样本都对应一个类，相当于Y\n",
    "# dist = np.zeros((n_sample, k))    # 每个样本对每个质心都有一个距离\n",
    "\n",
    "# for i in range(k):\n",
    "#     dist[:, i] = np.linalg.norm(X_train-centers[i], axis=1)\n",
    "\n",
    "# # 样本对应的类别为距离最近的质心\n",
    "# clusters = np.argmin(dist, axis=1)"
   ]
  },
  {
   "cell_type": "markdown",
   "metadata": {},
   "source": [
    "- 根据分类好的数据，计算每个类别下的质心，并更新质心"
   ]
  },
  {
   "cell_type": "code",
   "execution_count": 5,
   "metadata": {
    "collapsed": true
   },
   "outputs": [],
   "source": [
    "# # 计算每个类别下的均值坐标，更新质心\n",
    "# for i in range(k):\n",
    "#     centers[i] = np.mean(X_train[clusters == i], axis=0)"
   ]
  },
  {
   "cell_type": "markdown",
   "metadata": {},
   "source": [
    "KMeans结束迭代的条件有两个：一是设置最大迭代次数，二是当质心不再移动时。为了能够计算每次迭代质心的移动距离，使用两个变量```cent_pre```与```cent_cur```来保存当前迭代的质心与上轮质心。"
   ]
  },
  {
   "cell_type": "code",
   "execution_count": 6,
   "metadata": {},
   "outputs": [
    {
     "ename": "NameError",
     "evalue": "name 'n_sample' is not defined",
     "output_type": "error",
     "traceback": [
      "\u001b[1;31m---------------------------------------------------------------------------\u001b[0m",
      "\u001b[1;31mNameError\u001b[0m                                 Traceback (most recent call last)",
      "\u001b[1;32m<ipython-input-6-b2ea27dc6e62>\u001b[0m in \u001b[0;36m<module>\u001b[1;34m()\u001b[0m\n\u001b[1;32m----> 1\u001b[1;33m \u001b[0mclusters\u001b[0m \u001b[1;33m=\u001b[0m \u001b[0mnp\u001b[0m\u001b[1;33m.\u001b[0m\u001b[0mzeros\u001b[0m\u001b[1;33m(\u001b[0m\u001b[0mn_sample\u001b[0m\u001b[1;33m)\u001b[0m    \u001b[1;31m# 每个样本都对应一个类，相当于Y\u001b[0m\u001b[1;33m\u001b[0m\u001b[0m\n\u001b[0m\u001b[0;32m      2\u001b[0m \u001b[0mdist\u001b[0m \u001b[1;33m=\u001b[0m \u001b[0mnp\u001b[0m\u001b[1;33m.\u001b[0m\u001b[0mzeros\u001b[0m\u001b[1;33m(\u001b[0m\u001b[1;33m(\u001b[0m\u001b[0mn_sample\u001b[0m\u001b[1;33m,\u001b[0m \u001b[0mk\u001b[0m\u001b[1;33m)\u001b[0m\u001b[1;33m)\u001b[0m    \u001b[1;31m# 每个样本对每个质心都有一个距离\u001b[0m\u001b[1;33m\u001b[0m\u001b[0m\n\u001b[0;32m      3\u001b[0m \u001b[1;33m\u001b[0m\u001b[0m\n\u001b[0;32m      4\u001b[0m \u001b[1;32mfrom\u001b[0m \u001b[0mcopy\u001b[0m \u001b[1;32mimport\u001b[0m \u001b[0mdeepcopy\u001b[0m\u001b[1;33m\u001b[0m\u001b[0m\n\u001b[0;32m      5\u001b[0m \u001b[0mcent_pre\u001b[0m \u001b[1;33m=\u001b[0m \u001b[0mnp\u001b[0m\u001b[1;33m.\u001b[0m\u001b[0mzeros\u001b[0m\u001b[1;33m(\u001b[0m\u001b[0mcenters\u001b[0m\u001b[1;33m.\u001b[0m\u001b[0mshape\u001b[0m\u001b[1;33m)\u001b[0m\u001b[1;33m\u001b[0m\u001b[0m\n",
      "\u001b[1;31mNameError\u001b[0m: name 'n_sample' is not defined"
     ]
    }
   ],
   "source": [
    "clusters = np.zeros(n_sample)    # 每个样本都对应一个类，相当于Y\n",
    "dist = np.zeros((n_sample, k))    # 每个样本对每个质心都有一个距离\n",
    "\n",
    "from copy import deepcopy\n",
    "cent_pre = np.zeros(centers.shape)\n",
    "cent_cur = gen_center(X_train,k)\n",
    "cent_move = np.linalg.norm(cent_cur-cent_pre)    # 每轮迭代后质心的移动距离\n",
    "\n",
    "epsilon = 1e-3    # 质心需要移动的最小距离\n",
    "epoch = 0    # 当前迭代次数\n",
    "max_iter = 50    # 最大迭代次数\n",
    "while epoch < max_iter and cent_move > epsilon:\n",
    "    epoch += 1\n",
    "\n",
    "    # 首先计算每个样本离每个质心的距离\n",
    "    for i in range(k):\n",
    "        dist[:, i] = np.linalg.norm(X_train-cent_cur[i], axis=1)\n",
    "\n",
    "    # 样本对应的类别为距离最近的质心\n",
    "    clusters = np.argmin(dist, axis=1)\n",
    "\n",
    "    cent_pre = deepcopy(cent_cur)\n",
    "\n",
    "    # 计算每个类别下的均值坐标，更新质心\n",
    "    for i in range(k):\n",
    "        cent_cur[i] = np.mean(X_train[clusters == i], axis=0)\n",
    "\n",
    "    cent_move = np.linalg.norm(cent_cur-cent_pre)\n",
    "    \n",
    "plt.clf()\n",
    "plt.scatter(X_train[:, 0], X_train[:, 1], alpha=0.5, c=clusters)\n",
    "plt.scatter(cent_cur[:, 0], cent_cur[:, 1], marker='*', c='k')\n",
    "plt.show()"
   ]
  },
  {
   "cell_type": "markdown",
   "metadata": {},
   "source": [
    "模型训练好之后，对测试样本进行预测归类，并做可视化。"
   ]
  },
  {
   "cell_type": "code",
   "execution_count": null,
   "metadata": {},
   "outputs": [],
   "source": [
    "test_sample = X_test.shape[0]\n",
    "dist_test = np.zeros((test_sample, k))\n",
    "\n",
    "# KMeans预测的实质不过是计算各测试样例到各质心的距离，选取最近的质心作为归类\n",
    "for i in range(k):\n",
    "    dist_test[:, i] = np.linalg.norm(X_test-cent_cur[i], axis=1)\n",
    "clus_pred = np.argmin(dist_test, axis=1)\n",
    "\n",
    "plt.clf()\n",
    "plt.scatter(X_test[:, 0], X_test[:, 1], alpha=0.5, c=clus_pred)\n",
    "plt.show()"
   ]
  },
  {
   "cell_type": "markdown",
   "metadata": {},
   "source": [
    "## 改进\n",
    "KMeans最大的缺陷就在于不合适的初始质心会陷入局部解而无法跳出，解决办法也有两个：一是多次运行KMeans算法，将最后的聚类结果做投票；二是改进质心的选取方法，如KMeans++。\n",
    "\n",
    "KMeans++的思想很朴素，简单地认为初始各质心应该相互离得比较远，在KMeans++中，质心是逐个被选取的，随机点被选取为质心的概率跟已有质心的距离成正比，即离已有质心越远的点越有可能被选取为质心。易得对于参数为$k$的KMeans++模型，在选取质心的阶段就需要计算$k-1$次距离矩阵。\n",
    "\n",
    "### 多次重复的KMeans"
   ]
  },
  {
   "cell_type": "code",
   "execution_count": null,
   "metadata": {
    "collapsed": true
   },
   "outputs": [],
   "source": [
    "# 待补充"
   ]
  },
  {
   "cell_type": "markdown",
   "metadata": {},
   "source": [
    "### KMeans++\n",
    "关键在于初始质心的选取，需要计算：\n",
    "$$\n",
    "D(x^{(i)})=min[dist(x^{(i)},C_{1}),dist(x^{(i)},C_{2}),...,dist(x^{(i)},C_{K})]\n",
    "$$\n",
    "该点$x^{(i)}$被选为质心的概率为：\n",
    "$$\n",
    "P(x^{(i)})=\\frac{D(x^{(i)})^{2}}{{\\sum}D(x^{(j)})^{2}}\n",
    "$$"
   ]
  },
  {
   "cell_type": "code",
   "execution_count": 1,
   "metadata": {
    "scrolled": true
   },
   "outputs": [
    {
     "ename": "NameError",
     "evalue": "name 'X_train' is not defined",
     "output_type": "error",
     "traceback": [
      "\u001b[1;31m---------------------------------------------------------------------------\u001b[0m",
      "\u001b[1;31mNameError\u001b[0m                                 Traceback (most recent call last)",
      "\u001b[1;32m<ipython-input-1-1b72b06e7e58>\u001b[0m in \u001b[0;36m<module>\u001b[1;34m()\u001b[0m\n\u001b[0;32m     22\u001b[0m \u001b[1;33m\u001b[0m\u001b[0m\n\u001b[0;32m     23\u001b[0m \u001b[1;33m\u001b[0m\u001b[0m\n\u001b[1;32m---> 24\u001b[1;33m \u001b[0mcenters\u001b[0m \u001b[1;33m=\u001b[0m \u001b[0mgen_center\u001b[0m\u001b[1;33m(\u001b[0m\u001b[0mX_train\u001b[0m\u001b[1;33m,\u001b[0m \u001b[1;36m3\u001b[0m\u001b[1;33m)\u001b[0m\u001b[1;33m\u001b[0m\u001b[0m\n\u001b[0m\u001b[0;32m     25\u001b[0m \u001b[0mplt\u001b[0m\u001b[1;33m.\u001b[0m\u001b[0mclf\u001b[0m\u001b[1;33m(\u001b[0m\u001b[1;33m)\u001b[0m\u001b[1;33m\u001b[0m\u001b[0m\n\u001b[0;32m     26\u001b[0m \u001b[0mplt\u001b[0m\u001b[1;33m.\u001b[0m\u001b[0mscatter\u001b[0m\u001b[1;33m(\u001b[0m\u001b[0mX_train\u001b[0m\u001b[1;33m[\u001b[0m\u001b[1;33m:\u001b[0m\u001b[1;33m,\u001b[0m \u001b[1;36m0\u001b[0m\u001b[1;33m]\u001b[0m\u001b[1;33m,\u001b[0m \u001b[0mX_train\u001b[0m\u001b[1;33m[\u001b[0m\u001b[1;33m:\u001b[0m\u001b[1;33m,\u001b[0m \u001b[1;36m1\u001b[0m\u001b[1;33m]\u001b[0m\u001b[1;33m,\u001b[0m \u001b[0malpha\u001b[0m\u001b[1;33m=\u001b[0m\u001b[1;36m0.5\u001b[0m\u001b[1;33m)\u001b[0m\u001b[1;33m\u001b[0m\u001b[0m\n",
      "\u001b[1;31mNameError\u001b[0m: name 'X_train' is not defined"
     ]
    }
   ],
   "source": [
    "def gen_center(X_train, k):\n",
    "    n_sample, n_feature = X_train.shape\n",
    "\n",
    "    # 第一个质心随机选\n",
    "    idx = np.random.randint(0, n_sample)\n",
    "    centers = [X_train[idx, :]]\n",
    "\n",
    "    # 选出后面k-1个质心\n",
    "    for i in range(1, k):\n",
    "        dist = np.zeros((n_sample, len(centers)))    # 各样本到质心的距离矩阵\n",
    "        for cent_idx in range(len(centers)):\n",
    "            dist[:, cent_idx] = np.linalg.norm(X_train-centers[cent_idx],\n",
    "                                               axis=1)\n",
    "\n",
    "        dist = np.min(dist, axis=1)    # 所有样本离各质心距离的最小值\n",
    "        p = dist/np.sum(dist)    # 归一化后的最小距离当做概率进行下一个质心的选取，这里没有计算平方\n",
    "\n",
    "        next_cent_idx = np.random.choice(n_sample, p=p)\n",
    "        centers.append(X_train[next_cent_idx])\n",
    "\n",
    "    return np.array(centers)\n",
    "\n",
    "\n",
    "centers = gen_center(X_train, 3)\n",
    "plt.clf()\n",
    "plt.scatter(X_train[:, 0], X_train[:, 1], alpha=0.5)\n",
    "plt.scatter(centers[:, 0], centers[:, 1], marker='*', c='k')\n",
    "plt.show()"
   ]
  },
  {
   "cell_type": "code",
   "execution_count": null,
   "metadata": {
    "collapsed": true
   },
   "outputs": [],
   "source": []
  }
 ],
 "metadata": {
  "hide_input": false,
  "kernelspec": {
   "display_name": "Python 3",
   "language": "python",
   "name": "python3"
  },
  "language_info": {
   "codemirror_mode": {
    "name": "ipython",
    "version": 3
   },
   "file_extension": ".py",
   "mimetype": "text/x-python",
   "name": "python",
   "nbconvert_exporter": "python",
   "pygments_lexer": "ipython3",
   "version": "3.6.3"
  },
  "toc": {
   "base_numbering": 1,
   "nav_menu": {},
   "number_sections": true,
   "sideBar": true,
   "skip_h1_title": false,
   "title_cell": "Table of Contents",
   "title_sidebar": "Contents",
   "toc_cell": false,
   "toc_position": {},
   "toc_section_display": true,
   "toc_window_display": false
  }
 },
 "nbformat": 4,
 "nbformat_minor": 2
}
